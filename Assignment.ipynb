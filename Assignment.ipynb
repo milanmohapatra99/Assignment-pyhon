{
 "cells": [
  {
   "cell_type": "code",
   "execution_count": 2,
   "id": "b51e67e0",
   "metadata": {},
   "outputs": [
    {
     "name": "stdout",
     "output_type": "stream",
     "text": [
      "Please Enter any Number: 15\n",
      "The List of Natural Numbers from 1 to n are\n",
      "1\n",
      "2\n",
      "3\n",
      "4\n",
      "5\n",
      "6\n",
      "7\n",
      "8\n",
      "9\n",
      "10\n",
      "11\n",
      "12\n",
      "13\n",
      "14\n",
      "15\n"
     ]
    }
   ],
   "source": [
    "#WAP to print natural numbers from 1 to n, n is entered by the user\n",
    "number = int(input(\"Please Enter any Number: \"))  \n",
    "print(\"The List of Natural Numbers from 1 to n are\".format(number)) \n",
    "\n",
    "for i in range(1, number + 1):\n",
    "    print (i)"
   ]
  },
  {
   "cell_type": "code",
   "execution_count": 5,
   "id": "37db1813",
   "metadata": {},
   "outputs": [
    {
     "name": "stdout",
     "output_type": "stream",
     "text": [
      "Enter the number to print the tables for:4\n",
      "4 x 1 = 4\n",
      "4 x 2 = 8\n",
      "4 x 3 = 12\n",
      "4 x 4 = 16\n",
      "4 x 5 = 20\n",
      "4 x 6 = 24\n",
      "4 x 7 = 28\n",
      "4 x 8 = 32\n",
      "4 x 9 = 36\n",
      "4 x 10 = 40\n"
     ]
    }
   ],
   "source": [
    "#WAP to print table of n, where n is entered by the user\n",
    "n=int(input(\"Enter the number to print the tables for:-\"))\n",
    "for i in range(1,11):\n",
    "    print(n,\"x\",i,\"=\",n*i)"
   ]
  },
  {
   "cell_type": "code",
   "execution_count": 11,
   "id": "42fa7975",
   "metadata": {},
   "outputs": [
    {
     "name": "stdout",
     "output_type": "stream",
     "text": [
      "Enter the number:-5\n",
      "Sum of first 5 natural numbers is:  15\n"
     ]
    }
   ],
   "source": [
    "#WAP to print sum of n natural numbers, where n is entered by the user\n",
    "n = int(input(\"Enter the number:-\"))\n",
    "sum = 0\n",
    "t = n\n",
    "sum= sum+i\n",
    "print(\"Sum of first\", t, \"natural numbers is: \", sum)\n"
   ]
  },
  {
   "cell_type": "code",
   "execution_count": 17,
   "id": "97d0ef86",
   "metadata": {},
   "outputs": [
    {
     "name": "stdout",
     "output_type": "stream",
     "text": [
      "Enter the number:-7\n",
      "Factorial of 7 is:- 5040\n"
     ]
    }
   ],
   "source": [
    "#WAP to print the factorial of the given number, where number is entered by the user. \n",
    "import math  \n",
    "def fact(n):  \n",
    "    return(math.factorial(n))  \n",
    "  \n",
    "num = int(input(\"Enter the number:-\"))  \n",
    "f = fact(num)  \n",
    "print(\"Factorial of\", num, \"is:-\", f)  "
   ]
  },
  {
   "cell_type": "code",
   "execution_count": 2,
   "id": "d800c86b",
   "metadata": {},
   "outputs": [
    {
     "name": "stdout",
     "output_type": "stream",
     "text": [
      "Enter sales of month:-1000\n",
      "33.333333333333336\n"
     ]
    }
   ],
   "source": [
    "#WAP to input sales of the month and calculate the average sales of that month\n",
    "amount = int(input(\"Enter sales of month:-\"))\n",
    "average=amount/30\n",
    "print(average)"
   ]
  },
  {
   "cell_type": "code",
   "execution_count": null,
   "id": "5496941f",
   "metadata": {},
   "outputs": [],
   "source": []
  }
 ],
 "metadata": {
  "kernelspec": {
   "display_name": "Python 3 (ipykernel)",
   "language": "python",
   "name": "python3"
  },
  "language_info": {
   "codemirror_mode": {
    "name": "ipython",
    "version": 3
   },
   "file_extension": ".py",
   "mimetype": "text/x-python",
   "name": "python",
   "nbconvert_exporter": "python",
   "pygments_lexer": "ipython3",
   "version": "3.9.7"
  }
 },
 "nbformat": 4,
 "nbformat_minor": 5
}
